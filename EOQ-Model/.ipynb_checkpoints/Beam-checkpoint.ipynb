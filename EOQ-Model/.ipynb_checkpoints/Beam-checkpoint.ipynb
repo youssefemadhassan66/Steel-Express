{
 "cells": [
  {
   "cell_type": "code",
   "execution_count": 1,
   "id": "527405a8",
   "metadata": {},
   "outputs": [
    {
     "name": "stderr",
     "output_type": "stream",
     "text": [
      "C:\\Users\\Yousssef Emad\\anaconda3\\lib\\site-packages\\scipy\\__init__.py:155: UserWarning: A NumPy version >=1.18.5 and <1.25.0 is required for this version of SciPy (detected version 1.26.3\n",
      "  warnings.warn(f\"A NumPy version >={np_minversion} and <{np_maxversion}\"\n"
     ]
    }
   ],
   "source": [
    "import pandas as pd\n",
    "import numpy as np\n",
    "import math \n",
    "import seaborn as sns\n",
    "import matplotlib.pyplot as plt\n",
    "import plotly.express as px"
   ]
  },
  {
   "cell_type": "code",
   "execution_count": 2,
   "id": "9e91efc2",
   "metadata": {},
   "outputs": [],
   "source": [
    "SFP= pd.read_excel(\"Steel-express.xlsx\",\"Beams\")"
   ]
  },
  {
   "cell_type": "code",
   "execution_count": 33,
   "id": "2e2a4ae4",
   "metadata": {},
   "outputs": [
    {
     "data": {
      "text/html": [
       "<div>\n",
       "<style scoped>\n",
       "    .dataframe tbody tr th:only-of-type {\n",
       "        vertical-align: middle;\n",
       "    }\n",
       "\n",
       "    .dataframe tbody tr th {\n",
       "        vertical-align: top;\n",
       "    }\n",
       "\n",
       "    .dataframe thead th {\n",
       "        text-align: right;\n",
       "    }\n",
       "</style>\n",
       "<table border=\"1\" class=\"dataframe\">\n",
       "  <thead>\n",
       "    <tr style=\"text-align: right;\">\n",
       "      <th></th>\n",
       "      <th>Date</th>\n",
       "      <th>Weeks</th>\n",
       "      <th>type</th>\n",
       "      <th>purchases(kg)</th>\n",
       "      <th>sales(kg)</th>\n",
       "      <th>stock</th>\n",
       "      <th>price for sales(EGP)</th>\n",
       "      <th>price for purchases(EGP)</th>\n",
       "      <th>Total Sales(EGP)</th>\n",
       "      <th>Total Purchases(EGP)</th>\n",
       "      <th>Average price</th>\n",
       "      <th>Average price for sales</th>\n",
       "    </tr>\n",
       "  </thead>\n",
       "  <tbody>\n",
       "    <tr>\n",
       "      <th>0</th>\n",
       "      <td>2023-01-01</td>\n",
       "      <td>1</td>\n",
       "      <td>BEAMS</td>\n",
       "      <td>37372</td>\n",
       "      <td>0</td>\n",
       "      <td>37372</td>\n",
       "      <td>0.0</td>\n",
       "      <td>44.9</td>\n",
       "      <td>0.0</td>\n",
       "      <td>1678002.8</td>\n",
       "      <td>44.900000</td>\n",
       "      <td>49.785781</td>\n",
       "    </tr>\n",
       "    <tr>\n",
       "      <th>1</th>\n",
       "      <td>2023-01-01</td>\n",
       "      <td>1</td>\n",
       "      <td>BEAMS</td>\n",
       "      <td>81219</td>\n",
       "      <td>0</td>\n",
       "      <td>118591</td>\n",
       "      <td>0.0</td>\n",
       "      <td>44.5</td>\n",
       "      <td>0.0</td>\n",
       "      <td>3614245.5</td>\n",
       "      <td>44.626053</td>\n",
       "      <td>49.924339</td>\n",
       "    </tr>\n",
       "    <tr>\n",
       "      <th>2</th>\n",
       "      <td>2023-01-01</td>\n",
       "      <td>1</td>\n",
       "      <td>BEAMS</td>\n",
       "      <td>160420</td>\n",
       "      <td>0</td>\n",
       "      <td>279011</td>\n",
       "      <td>0.0</td>\n",
       "      <td>46.0</td>\n",
       "      <td>0.0</td>\n",
       "      <td>7379320.0</td>\n",
       "      <td>45.416017</td>\n",
       "      <td>50.020612</td>\n",
       "    </tr>\n",
       "    <tr>\n",
       "      <th>3</th>\n",
       "      <td>2023-01-01</td>\n",
       "      <td>1</td>\n",
       "      <td>BEAMS</td>\n",
       "      <td>31129</td>\n",
       "      <td>0</td>\n",
       "      <td>310140</td>\n",
       "      <td>0.0</td>\n",
       "      <td>44.6</td>\n",
       "      <td>0.0</td>\n",
       "      <td>1388353.4</td>\n",
       "      <td>45.334113</td>\n",
       "      <td>50.076101</td>\n",
       "    </tr>\n",
       "    <tr>\n",
       "      <th>4</th>\n",
       "      <td>2023-01-01</td>\n",
       "      <td>1</td>\n",
       "      <td>BEAMS</td>\n",
       "      <td>13572</td>\n",
       "      <td>0</td>\n",
       "      <td>323712</td>\n",
       "      <td>0.0</td>\n",
       "      <td>44.9</td>\n",
       "      <td>0.0</td>\n",
       "      <td>609382.8</td>\n",
       "      <td>45.315912</td>\n",
       "      <td>50.085154</td>\n",
       "    </tr>\n",
       "    <tr>\n",
       "      <th>5</th>\n",
       "      <td>2023-01-01</td>\n",
       "      <td>1</td>\n",
       "      <td>BEAMS</td>\n",
       "      <td>247377</td>\n",
       "      <td>0</td>\n",
       "      <td>571089</td>\n",
       "      <td>0.0</td>\n",
       "      <td>43.9</td>\n",
       "      <td>0.0</td>\n",
       "      <td>10859850.3</td>\n",
       "      <td>44.702585</td>\n",
       "      <td>50.098469</td>\n",
       "    </tr>\n",
       "    <tr>\n",
       "      <th>6</th>\n",
       "      <td>2023-01-01</td>\n",
       "      <td>1</td>\n",
       "      <td>BEAMS</td>\n",
       "      <td>34365</td>\n",
       "      <td>0</td>\n",
       "      <td>605454</td>\n",
       "      <td>0.0</td>\n",
       "      <td>44.5</td>\n",
       "      <td>0.0</td>\n",
       "      <td>1529242.5</td>\n",
       "      <td>44.691087</td>\n",
       "      <td>50.126284</td>\n",
       "    </tr>\n",
       "    <tr>\n",
       "      <th>7</th>\n",
       "      <td>2023-01-01</td>\n",
       "      <td>1</td>\n",
       "      <td>BEAMS</td>\n",
       "      <td>368</td>\n",
       "      <td>0</td>\n",
       "      <td>605822</td>\n",
       "      <td>0.0</td>\n",
       "      <td>45.3</td>\n",
       "      <td>0.0</td>\n",
       "      <td>16670.4</td>\n",
       "      <td>44.691457</td>\n",
       "      <td>50.173304</td>\n",
       "    </tr>\n",
       "  </tbody>\n",
       "</table>\n",
       "</div>"
      ],
      "text/plain": [
       "        Date  Weeks   type  purchases(kg)  sales(kg)   stock  \\\n",
       "0 2023-01-01      1  BEAMS          37372          0   37372   \n",
       "1 2023-01-01      1  BEAMS          81219          0  118591   \n",
       "2 2023-01-01      1  BEAMS         160420          0  279011   \n",
       "3 2023-01-01      1  BEAMS          31129          0  310140   \n",
       "4 2023-01-01      1  BEAMS          13572          0  323712   \n",
       "5 2023-01-01      1  BEAMS         247377          0  571089   \n",
       "6 2023-01-01      1  BEAMS          34365          0  605454   \n",
       "7 2023-01-01      1  BEAMS            368          0  605822   \n",
       "\n",
       "   price for sales(EGP)  price for purchases(EGP)  Total Sales(EGP)  \\\n",
       "0                   0.0                      44.9               0.0   \n",
       "1                   0.0                      44.5               0.0   \n",
       "2                   0.0                      46.0               0.0   \n",
       "3                   0.0                      44.6               0.0   \n",
       "4                   0.0                      44.9               0.0   \n",
       "5                   0.0                      43.9               0.0   \n",
       "6                   0.0                      44.5               0.0   \n",
       "7                   0.0                      45.3               0.0   \n",
       "\n",
       "   Total Purchases(EGP)  Average price  Average price for sales  \n",
       "0             1678002.8      44.900000                49.785781  \n",
       "1             3614245.5      44.626053                49.924339  \n",
       "2             7379320.0      45.416017                50.020612  \n",
       "3             1388353.4      45.334113                50.076101  \n",
       "4              609382.8      45.315912                50.085154  \n",
       "5            10859850.3      44.702585                50.098469  \n",
       "6             1529242.5      44.691087                50.126284  \n",
       "7               16670.4      44.691457                50.173304  "
      ]
     },
     "execution_count": 33,
     "metadata": {},
     "output_type": "execute_result"
    }
   ],
   "source": [
    "SFP.head(8)"
   ]
  },
  {
   "cell_type": "code",
   "execution_count": 4,
   "id": "67ff9b25",
   "metadata": {},
   "outputs": [
    {
     "name": "stdout",
     "output_type": "stream",
     "text": [
      "<class 'pandas.core.frame.DataFrame'>\n",
      "RangeIndex: 840 entries, 0 to 839\n",
      "Data columns (total 12 columns):\n",
      " #   Column                    Non-Null Count  Dtype         \n",
      "---  ------                    --------------  -----         \n",
      " 0   Date                      840 non-null    datetime64[ns]\n",
      " 1   Weeks                     840 non-null    int64         \n",
      " 2   type                      840 non-null    object        \n",
      " 3   purchases(kg)             840 non-null    int64         \n",
      " 4   sales(kg)                 840 non-null    int64         \n",
      " 5   stock                     840 non-null    int64         \n",
      " 6   price for sales(EGP)      840 non-null    float64       \n",
      " 7   price for purchases(EGP)  840 non-null    float64       \n",
      " 8   Total Sales(EGP)          840 non-null    float64       \n",
      " 9   Total Purchases(EGP)      840 non-null    float64       \n",
      " 10  Average price             840 non-null    float64       \n",
      " 11  Average price for sales   840 non-null    float64       \n",
      "dtypes: datetime64[ns](1), float64(6), int64(4), object(1)\n",
      "memory usage: 78.9+ KB\n"
     ]
    }
   ],
   "source": [
    "SFP.info()"
   ]
  },
  {
   "cell_type": "code",
   "execution_count": 5,
   "id": "d8c570a5",
   "metadata": {},
   "outputs": [
    {
     "data": {
      "text/plain": [
       "45.27848585763299"
      ]
     },
     "execution_count": 5,
     "metadata": {},
     "output_type": "execute_result"
    }
   ],
   "source": [
    "#Avarage_price for purchase and sales\n",
    "\n",
    "SFP_AVG_PRICE = SFP['Average price'].mean()\n",
    "SFP_AVG_PRICE"
   ]
  },
  {
   "cell_type": "code",
   "execution_count": 6,
   "id": "fbaa0824",
   "metadata": {},
   "outputs": [
    {
     "data": {
      "text/plain": [
       "51.07871239160648"
      ]
     },
     "execution_count": 6,
     "metadata": {},
     "output_type": "execute_result"
    }
   ],
   "source": [
    "SFP_AVG_Price_sales =  SFP[SFP['Average price for sales'] > 0]['Average price for sales'].mean()\n",
    "SFP_AVG_Price_sales"
   ]
  },
  {
   "cell_type": "markdown",
   "id": "cc6ca82c",
   "metadata": {},
   "source": [
    "# Making Pivot Tables"
   ]
  },
  {
   "cell_type": "code",
   "execution_count": 7,
   "id": "453ff39e",
   "metadata": {},
   "outputs": [],
   "source": [
    "SFP_PV=SFP.pivot_table(index=\"Weeks\",aggfunc=\"sum\",values=[\"purchases(kg)\",\"sales(kg)\"])"
   ]
  },
  {
   "cell_type": "code",
   "execution_count": 8,
   "id": "041ee4ec",
   "metadata": {},
   "outputs": [
    {
     "data": {
      "text/plain": [
       "51"
      ]
     },
     "execution_count": 8,
     "metadata": {},
     "output_type": "execute_result"
    }
   ],
   "source": [
    "length = len(SFP_PV)\n",
    "length"
   ]
  },
  {
   "cell_type": "markdown",
   "id": "3253d7bc",
   "metadata": {},
   "source": [
    "## Calculating Stock "
   ]
  },
  {
   "cell_type": "code",
   "execution_count": 9,
   "id": "fcb74a7e",
   "metadata": {},
   "outputs": [],
   "source": [
    "SFP_PV['Stock'] = 0\n",
    "SFP_PV.iloc[0,2] = SFP_PV.iloc[0,0] - SFP_PV.iloc[0,1]"
   ]
  },
  {
   "cell_type": "code",
   "execution_count": 10,
   "id": "2ba84ddc",
   "metadata": {},
   "outputs": [],
   "source": [
    "SFP_PV.iloc[1:,2] =  (SFP_PV.iloc[1:,0] - SFP_PV.iloc[1:,1])\n",
    "SFP_PV['Stock'] = SFP_PV['Stock'].cumsum()"
   ]
  },
  {
   "cell_type": "markdown",
   "id": "fbe2d12e",
   "metadata": {},
   "source": [
    "## Calculating-Holding-cost "
   ]
  },
  {
   "cell_type": "code",
   "execution_count": 11,
   "id": "5d8e859c",
   "metadata": {},
   "outputs": [],
   "source": [
    "SFP_PV['Holding'] = 0\n",
    "\n",
    "SFP_PV.iloc[0,3]=SFP_PV.iloc[0,0] * 0.3\n",
    "\n",
    "for i in range(length-1):\n",
    "    SFP_PV.iloc[i+1,3] = (SFP_PV.iloc[i,2] + SFP_PV.iloc[i+1,0]) *  0.3"
   ]
  },
  {
   "cell_type": "code",
   "execution_count": 12,
   "id": "319f94e5",
   "metadata": {},
   "outputs": [
    {
     "data": {
      "text/html": [
       "<div>\n",
       "<style scoped>\n",
       "    .dataframe tbody tr th:only-of-type {\n",
       "        vertical-align: middle;\n",
       "    }\n",
       "\n",
       "    .dataframe tbody tr th {\n",
       "        vertical-align: top;\n",
       "    }\n",
       "\n",
       "    .dataframe thead th {\n",
       "        text-align: right;\n",
       "    }\n",
       "</style>\n",
       "<table border=\"1\" class=\"dataframe\">\n",
       "  <thead>\n",
       "    <tr style=\"text-align: right;\">\n",
       "      <th></th>\n",
       "      <th>purchases(kg)</th>\n",
       "      <th>sales(kg)</th>\n",
       "      <th>Stock</th>\n",
       "      <th>Holding</th>\n",
       "    </tr>\n",
       "    <tr>\n",
       "      <th>Weeks</th>\n",
       "      <th></th>\n",
       "      <th></th>\n",
       "      <th></th>\n",
       "      <th></th>\n",
       "    </tr>\n",
       "  </thead>\n",
       "  <tbody>\n",
       "    <tr>\n",
       "      <th>1</th>\n",
       "      <td>981513</td>\n",
       "      <td>110214</td>\n",
       "      <td>871299</td>\n",
       "      <td>294453.9</td>\n",
       "    </tr>\n",
       "    <tr>\n",
       "      <th>2</th>\n",
       "      <td>31470</td>\n",
       "      <td>3810</td>\n",
       "      <td>898959</td>\n",
       "      <td>270830.7</td>\n",
       "    </tr>\n",
       "    <tr>\n",
       "      <th>3</th>\n",
       "      <td>15480</td>\n",
       "      <td>42341</td>\n",
       "      <td>872098</td>\n",
       "      <td>274331.7</td>\n",
       "    </tr>\n",
       "    <tr>\n",
       "      <th>4</th>\n",
       "      <td>14025</td>\n",
       "      <td>53572</td>\n",
       "      <td>832551</td>\n",
       "      <td>265836.9</td>\n",
       "    </tr>\n",
       "    <tr>\n",
       "      <th>5</th>\n",
       "      <td>236384</td>\n",
       "      <td>130779</td>\n",
       "      <td>938156</td>\n",
       "      <td>320680.5</td>\n",
       "    </tr>\n",
       "    <tr>\n",
       "      <th>6</th>\n",
       "      <td>321666</td>\n",
       "      <td>15476</td>\n",
       "      <td>1244346</td>\n",
       "      <td>377946.6</td>\n",
       "    </tr>\n",
       "    <tr>\n",
       "      <th>7</th>\n",
       "      <td>208521</td>\n",
       "      <td>52747</td>\n",
       "      <td>1400120</td>\n",
       "      <td>435860.1</td>\n",
       "    </tr>\n",
       "    <tr>\n",
       "      <th>8</th>\n",
       "      <td>326630</td>\n",
       "      <td>144095</td>\n",
       "      <td>1582655</td>\n",
       "      <td>518025.0</td>\n",
       "    </tr>\n",
       "    <tr>\n",
       "      <th>9</th>\n",
       "      <td>680</td>\n",
       "      <td>230417</td>\n",
       "      <td>1352918</td>\n",
       "      <td>475000.5</td>\n",
       "    </tr>\n",
       "    <tr>\n",
       "      <th>10</th>\n",
       "      <td>355003</td>\n",
       "      <td>104068</td>\n",
       "      <td>1603853</td>\n",
       "      <td>512376.3</td>\n",
       "    </tr>\n",
       "    <tr>\n",
       "      <th>11</th>\n",
       "      <td>136017</td>\n",
       "      <td>237854</td>\n",
       "      <td>1502016</td>\n",
       "      <td>521961.0</td>\n",
       "    </tr>\n",
       "    <tr>\n",
       "      <th>12</th>\n",
       "      <td>1503</td>\n",
       "      <td>6620</td>\n",
       "      <td>1496899</td>\n",
       "      <td>451055.7</td>\n",
       "    </tr>\n",
       "    <tr>\n",
       "      <th>13</th>\n",
       "      <td>191651</td>\n",
       "      <td>310962</td>\n",
       "      <td>1377588</td>\n",
       "      <td>506565.0</td>\n",
       "    </tr>\n",
       "    <tr>\n",
       "      <th>14</th>\n",
       "      <td>0</td>\n",
       "      <td>570</td>\n",
       "      <td>1377018</td>\n",
       "      <td>413276.4</td>\n",
       "    </tr>\n",
       "    <tr>\n",
       "      <th>15</th>\n",
       "      <td>0</td>\n",
       "      <td>21798</td>\n",
       "      <td>1355220</td>\n",
       "      <td>413105.4</td>\n",
       "    </tr>\n",
       "    <tr>\n",
       "      <th>16</th>\n",
       "      <td>33760</td>\n",
       "      <td>77319</td>\n",
       "      <td>1311661</td>\n",
       "      <td>416694.0</td>\n",
       "    </tr>\n",
       "    <tr>\n",
       "      <th>17</th>\n",
       "      <td>0</td>\n",
       "      <td>14968</td>\n",
       "      <td>1296693</td>\n",
       "      <td>393498.3</td>\n",
       "    </tr>\n",
       "    <tr>\n",
       "      <th>18</th>\n",
       "      <td>187750</td>\n",
       "      <td>127878</td>\n",
       "      <td>1356565</td>\n",
       "      <td>445332.9</td>\n",
       "    </tr>\n",
       "    <tr>\n",
       "      <th>19</th>\n",
       "      <td>0</td>\n",
       "      <td>179643</td>\n",
       "      <td>1176922</td>\n",
       "      <td>406969.5</td>\n",
       "    </tr>\n",
       "    <tr>\n",
       "      <th>20</th>\n",
       "      <td>746984</td>\n",
       "      <td>236144</td>\n",
       "      <td>1687762</td>\n",
       "      <td>577171.8</td>\n",
       "    </tr>\n",
       "    <tr>\n",
       "      <th>21</th>\n",
       "      <td>607350</td>\n",
       "      <td>366723</td>\n",
       "      <td>1928389</td>\n",
       "      <td>688533.6</td>\n",
       "    </tr>\n",
       "    <tr>\n",
       "      <th>22</th>\n",
       "      <td>0</td>\n",
       "      <td>84857</td>\n",
       "      <td>1843532</td>\n",
       "      <td>578516.7</td>\n",
       "    </tr>\n",
       "    <tr>\n",
       "      <th>23</th>\n",
       "      <td>0</td>\n",
       "      <td>151163</td>\n",
       "      <td>1692369</td>\n",
       "      <td>553059.6</td>\n",
       "    </tr>\n",
       "    <tr>\n",
       "      <th>24</th>\n",
       "      <td>15520</td>\n",
       "      <td>97679</td>\n",
       "      <td>1610210</td>\n",
       "      <td>512366.7</td>\n",
       "    </tr>\n",
       "    <tr>\n",
       "      <th>25</th>\n",
       "      <td>30103</td>\n",
       "      <td>127212</td>\n",
       "      <td>1513101</td>\n",
       "      <td>492093.9</td>\n",
       "    </tr>\n",
       "    <tr>\n",
       "      <th>26</th>\n",
       "      <td>0</td>\n",
       "      <td>5040</td>\n",
       "      <td>1508061</td>\n",
       "      <td>453930.3</td>\n",
       "    </tr>\n",
       "    <tr>\n",
       "      <th>27</th>\n",
       "      <td>0</td>\n",
       "      <td>87943</td>\n",
       "      <td>1420118</td>\n",
       "      <td>452418.3</td>\n",
       "    </tr>\n",
       "    <tr>\n",
       "      <th>28</th>\n",
       "      <td>0</td>\n",
       "      <td>23069</td>\n",
       "      <td>1397049</td>\n",
       "      <td>426035.4</td>\n",
       "    </tr>\n",
       "    <tr>\n",
       "      <th>29</th>\n",
       "      <td>0</td>\n",
       "      <td>64301</td>\n",
       "      <td>1332748</td>\n",
       "      <td>419114.7</td>\n",
       "    </tr>\n",
       "    <tr>\n",
       "      <th>30</th>\n",
       "      <td>19980</td>\n",
       "      <td>2644</td>\n",
       "      <td>1350084</td>\n",
       "      <td>405818.4</td>\n",
       "    </tr>\n",
       "    <tr>\n",
       "      <th>31</th>\n",
       "      <td>0</td>\n",
       "      <td>37537</td>\n",
       "      <td>1312547</td>\n",
       "      <td>405025.2</td>\n",
       "    </tr>\n",
       "    <tr>\n",
       "      <th>32</th>\n",
       "      <td>191160</td>\n",
       "      <td>30247</td>\n",
       "      <td>1473460</td>\n",
       "      <td>451112.1</td>\n",
       "    </tr>\n",
       "    <tr>\n",
       "      <th>33</th>\n",
       "      <td>16717</td>\n",
       "      <td>43193</td>\n",
       "      <td>1446984</td>\n",
       "      <td>447053.1</td>\n",
       "    </tr>\n",
       "    <tr>\n",
       "      <th>34</th>\n",
       "      <td>153800</td>\n",
       "      <td>348906</td>\n",
       "      <td>1251878</td>\n",
       "      <td>480235.2</td>\n",
       "    </tr>\n",
       "    <tr>\n",
       "      <th>35</th>\n",
       "      <td>0</td>\n",
       "      <td>4767</td>\n",
       "      <td>1247111</td>\n",
       "      <td>375563.4</td>\n",
       "    </tr>\n",
       "    <tr>\n",
       "      <th>36</th>\n",
       "      <td>0</td>\n",
       "      <td>22515</td>\n",
       "      <td>1224596</td>\n",
       "      <td>374133.3</td>\n",
       "    </tr>\n",
       "    <tr>\n",
       "      <th>37</th>\n",
       "      <td>230482</td>\n",
       "      <td>36186</td>\n",
       "      <td>1418892</td>\n",
       "      <td>436523.4</td>\n",
       "    </tr>\n",
       "    <tr>\n",
       "      <th>38</th>\n",
       "      <td>8240</td>\n",
       "      <td>42228</td>\n",
       "      <td>1384904</td>\n",
       "      <td>428139.6</td>\n",
       "    </tr>\n",
       "    <tr>\n",
       "      <th>39</th>\n",
       "      <td>8104</td>\n",
       "      <td>20029</td>\n",
       "      <td>1372979</td>\n",
       "      <td>417902.4</td>\n",
       "    </tr>\n",
       "    <tr>\n",
       "      <th>40</th>\n",
       "      <td>14780</td>\n",
       "      <td>54415</td>\n",
       "      <td>1333344</td>\n",
       "      <td>416327.7</td>\n",
       "    </tr>\n",
       "    <tr>\n",
       "      <th>41</th>\n",
       "      <td>12650</td>\n",
       "      <td>61105</td>\n",
       "      <td>1284889</td>\n",
       "      <td>403798.2</td>\n",
       "    </tr>\n",
       "    <tr>\n",
       "      <th>42</th>\n",
       "      <td>214630</td>\n",
       "      <td>194531</td>\n",
       "      <td>1304988</td>\n",
       "      <td>449855.7</td>\n",
       "    </tr>\n",
       "    <tr>\n",
       "      <th>43</th>\n",
       "      <td>66250</td>\n",
       "      <td>184218</td>\n",
       "      <td>1187020</td>\n",
       "      <td>411371.4</td>\n",
       "    </tr>\n",
       "    <tr>\n",
       "      <th>44</th>\n",
       "      <td>17090</td>\n",
       "      <td>121607</td>\n",
       "      <td>1082503</td>\n",
       "      <td>361233.0</td>\n",
       "    </tr>\n",
       "    <tr>\n",
       "      <th>45</th>\n",
       "      <td>0</td>\n",
       "      <td>2470</td>\n",
       "      <td>1080033</td>\n",
       "      <td>324750.9</td>\n",
       "    </tr>\n",
       "    <tr>\n",
       "      <th>46</th>\n",
       "      <td>0</td>\n",
       "      <td>9943</td>\n",
       "      <td>1070090</td>\n",
       "      <td>324009.9</td>\n",
       "    </tr>\n",
       "    <tr>\n",
       "      <th>47</th>\n",
       "      <td>209316</td>\n",
       "      <td>1050</td>\n",
       "      <td>1278356</td>\n",
       "      <td>383821.8</td>\n",
       "    </tr>\n",
       "    <tr>\n",
       "      <th>48</th>\n",
       "      <td>0</td>\n",
       "      <td>77067</td>\n",
       "      <td>1201289</td>\n",
       "      <td>383506.8</td>\n",
       "    </tr>\n",
       "    <tr>\n",
       "      <th>49</th>\n",
       "      <td>41746</td>\n",
       "      <td>260135</td>\n",
       "      <td>982900</td>\n",
       "      <td>372910.5</td>\n",
       "    </tr>\n",
       "    <tr>\n",
       "      <th>50</th>\n",
       "      <td>84280</td>\n",
       "      <td>73286</td>\n",
       "      <td>993894</td>\n",
       "      <td>320154.0</td>\n",
       "    </tr>\n",
       "    <tr>\n",
       "      <th>51</th>\n",
       "      <td>0</td>\n",
       "      <td>59450</td>\n",
       "      <td>934444</td>\n",
       "      <td>298168.2</td>\n",
       "    </tr>\n",
       "  </tbody>\n",
       "</table>\n",
       "</div>"
      ],
      "text/plain": [
       "       purchases(kg)  sales(kg)    Stock   Holding\n",
       "Weeks                                             \n",
       "1             981513     110214   871299  294453.9\n",
       "2              31470       3810   898959  270830.7\n",
       "3              15480      42341   872098  274331.7\n",
       "4              14025      53572   832551  265836.9\n",
       "5             236384     130779   938156  320680.5\n",
       "6             321666      15476  1244346  377946.6\n",
       "7             208521      52747  1400120  435860.1\n",
       "8             326630     144095  1582655  518025.0\n",
       "9                680     230417  1352918  475000.5\n",
       "10            355003     104068  1603853  512376.3\n",
       "11            136017     237854  1502016  521961.0\n",
       "12              1503       6620  1496899  451055.7\n",
       "13            191651     310962  1377588  506565.0\n",
       "14                 0        570  1377018  413276.4\n",
       "15                 0      21798  1355220  413105.4\n",
       "16             33760      77319  1311661  416694.0\n",
       "17                 0      14968  1296693  393498.3\n",
       "18            187750     127878  1356565  445332.9\n",
       "19                 0     179643  1176922  406969.5\n",
       "20            746984     236144  1687762  577171.8\n",
       "21            607350     366723  1928389  688533.6\n",
       "22                 0      84857  1843532  578516.7\n",
       "23                 0     151163  1692369  553059.6\n",
       "24             15520      97679  1610210  512366.7\n",
       "25             30103     127212  1513101  492093.9\n",
       "26                 0       5040  1508061  453930.3\n",
       "27                 0      87943  1420118  452418.3\n",
       "28                 0      23069  1397049  426035.4\n",
       "29                 0      64301  1332748  419114.7\n",
       "30             19980       2644  1350084  405818.4\n",
       "31                 0      37537  1312547  405025.2\n",
       "32            191160      30247  1473460  451112.1\n",
       "33             16717      43193  1446984  447053.1\n",
       "34            153800     348906  1251878  480235.2\n",
       "35                 0       4767  1247111  375563.4\n",
       "36                 0      22515  1224596  374133.3\n",
       "37            230482      36186  1418892  436523.4\n",
       "38              8240      42228  1384904  428139.6\n",
       "39              8104      20029  1372979  417902.4\n",
       "40             14780      54415  1333344  416327.7\n",
       "41             12650      61105  1284889  403798.2\n",
       "42            214630     194531  1304988  449855.7\n",
       "43             66250     184218  1187020  411371.4\n",
       "44             17090     121607  1082503  361233.0\n",
       "45                 0       2470  1080033  324750.9\n",
       "46                 0       9943  1070090  324009.9\n",
       "47            209316       1050  1278356  383821.8\n",
       "48                 0      77067  1201289  383506.8\n",
       "49             41746     260135   982900  372910.5\n",
       "50             84280      73286   993894  320154.0\n",
       "51                 0      59450   934444  298168.2"
      ]
     },
     "execution_count": 12,
     "metadata": {},
     "output_type": "execute_result"
    }
   ],
   "source": [
    "SFP_PV"
   ]
  },
  {
   "cell_type": "markdown",
   "id": "6707c564",
   "metadata": {},
   "source": [
    "## Calculating order cost"
   ]
  },
  {
   "cell_type": "code",
   "execution_count": 13,
   "id": "f1686059",
   "metadata": {},
   "outputs": [],
   "source": [
    "Order_cost_percnt = 0.07"
   ]
  },
  {
   "cell_type": "code",
   "execution_count": 14,
   "id": "7456dc9d",
   "metadata": {},
   "outputs": [],
   "source": [
    "SFP_PV['Order_Cost(EGP)'] = 0\n",
    "SFP_PV.iloc[0:,4] =  round((SFP_PV.iloc[0:,0]*SFP_AVG_PRICE*Order_cost_percnt))"
   ]
  },
  {
   "cell_type": "markdown",
   "id": "5b825b28",
   "metadata": {},
   "source": [
    "## Calculating Avarege Quantity / Oerder"
   ]
  },
  {
   "cell_type": "code",
   "execution_count": 15,
   "id": "8e70bb27",
   "metadata": {},
   "outputs": [
    {
     "data": {
      "text/plain": [
       "20916.91605839416"
      ]
     },
     "execution_count": 15,
     "metadata": {},
     "output_type": "execute_result"
    }
   ],
   "source": [
    "SFP_AVG_QUN_ORDER =  SFP[SFP['purchases(kg)'] > 0]['purchases(kg)'].mean()\n",
    "SFP_AVG_QUN_ORDER"
   ]
  },
  {
   "cell_type": "markdown",
   "id": "88109774",
   "metadata": {},
   "source": [
    "## EOQ - MODEL"
   ]
  },
  {
   "cell_type": "code",
   "execution_count": 16,
   "id": "10379977",
   "metadata": {},
   "outputs": [],
   "source": [
    "## FIXED COST FOR PALCING AN ORDER\n",
    "\n",
    "Fixed_Cost = SFP_AVG_QUN_ORDER*SFP_AVG_PRICE*Order_cost_percnt"
   ]
  },
  {
   "cell_type": "code",
   "execution_count": 17,
   "id": "d74a295f",
   "metadata": {},
   "outputs": [
    {
     "data": {
      "text/plain": [
       "4796791"
      ]
     },
     "execution_count": 17,
     "metadata": {},
     "output_type": "execute_result"
    }
   ],
   "source": [
    "## sum of annual sales\n",
    "Sum_sales = SFP_PV['sales(kg)'].sum()\n",
    "Sum_sales"
   ]
  },
  {
   "cell_type": "code",
   "execution_count": 18,
   "id": "ca7159ea",
   "metadata": {},
   "outputs": [],
   "source": [
    "## carring cost \n",
    "Carry_cost  = 0.3\n"
   ]
  },
  {
   "cell_type": "code",
   "execution_count": 19,
   "id": "1abc2fd4",
   "metadata": {},
   "outputs": [
    {
     "data": {
      "text/plain": [
       "45.27848585763299"
      ]
     },
     "execution_count": 19,
     "metadata": {},
     "output_type": "execute_result"
    }
   ],
   "source": [
    "## average price per kg\n",
    "Price = SFP_AVG_PRICE \n",
    "Price"
   ]
  },
  {
   "cell_type": "code",
   "execution_count": 20,
   "id": "f38db2d5",
   "metadata": {},
   "outputs": [
    {
     "data": {
      "text/plain": [
       "216385.23099272497"
      ]
     },
     "execution_count": 20,
     "metadata": {},
     "output_type": "execute_result"
    }
   ],
   "source": [
    "SFP_EOQ = math.sqrt((2*Fixed_Cost*Sum_sales)/(Carry_cost*Price))\n",
    "SFP_EOQ"
   ]
  },
  {
   "cell_type": "markdown",
   "id": "109d61b8",
   "metadata": {},
   "source": [
    "## Reorder-point"
   ]
  },
  {
   "cell_type": "code",
   "execution_count": 21,
   "id": "cb042ba8",
   "metadata": {},
   "outputs": [],
   "source": [
    "Lead_time = 3\n",
    "\n",
    "Weakly_average_usage = Sum_sales / length\n"
   ]
  },
  {
   "cell_type": "code",
   "execution_count": 22,
   "id": "9599a311",
   "metadata": {},
   "outputs": [
    {
     "data": {
      "text/plain": [
       "282164.17647058825"
      ]
     },
     "execution_count": 22,
     "metadata": {},
     "output_type": "execute_result"
    }
   ],
   "source": [
    "Re_order_point = Lead_time * Weakly_average_usage\n",
    "Re_order_point"
   ]
  },
  {
   "cell_type": "markdown",
   "id": "eca76701",
   "metadata": {},
   "source": [
    "## New stock"
   ]
  },
  {
   "cell_type": "code",
   "execution_count": 23,
   "id": "2d00a1b7",
   "metadata": {},
   "outputs": [],
   "source": [
    "SFP_new_pur = np.zeros(length)\n",
    "SFP_new_stock = np.zeros(length)\n",
    "LD = 0\n",
    "SFP_new_pur[0] = SFP_EOQ\n",
    "SFP_new_stock[0] = SFP_new_pur[0] - SFP_PV.iloc[0,1]"
   ]
  },
  {
   "cell_type": "code",
   "execution_count": 24,
   "id": "fae978a1",
   "metadata": {},
   "outputs": [],
   "source": [
    "for i in range(length-1):\n",
    "    if(SFP_new_stock[i]  <= Re_order_point):\n",
    "            if(SFP_new_stock[i] > 0):\n",
    "                SFP_new_stock[i+1] = SFP_new_stock[i] + (SFP_new_pur[i+1] - SFP_PV.iloc[i+1,1])\n",
    "                LD = LD - 1\n",
    "            else:\n",
    "                SFP_new_stock[i+1] = 0 + (SFP_new_pur[i+1] - SFP_PV.iloc[i+1,1])\n",
    "                LD = LD - 1\n",
    "            if(LD<=0 and i < length-4):\n",
    "                SFP_new_pur[i+3] = SFP_EOQ\n",
    "                LD=3\n",
    "    else: \n",
    "        if(SFP_new_stock[i] > 0):\n",
    "                SFP_new_stock[i+1] = SFP_new_stock[i] + (SFP_new_pur[i+1] - SFP_PV.iloc[i+1,1])\n",
    "                LD = LD - 1\n",
    "        else:\n",
    "            SFP_new_stock[i+1] = 0 + (SFP_new_pur[i+1] - SFP_PV_copy.iloc[i+1,1])\n",
    "            LD = LD - 1"
   ]
  },
  {
   "cell_type": "code",
   "execution_count": 25,
   "id": "3bc13066",
   "metadata": {},
   "outputs": [],
   "source": [
    "SFP_PV['New_Purchase'] = SFP_new_pur\n",
    "SFP_PV['New_Stock'] = SFP_new_stock"
   ]
  },
  {
   "cell_type": "markdown",
   "id": "383889fa",
   "metadata": {},
   "source": [
    "### New Holding   and Shortage"
   ]
  },
  {
   "cell_type": "code",
   "execution_count": 26,
   "id": "79442762",
   "metadata": {},
   "outputs": [
    {
     "data": {
      "text/plain": [
       "2.3307325239391843"
      ]
     },
     "execution_count": 26,
     "metadata": {},
     "output_type": "execute_result"
    }
   ],
   "source": [
    "Shortage = SFP_AVG_Price_sales-SFP_AVG_PRICE-Carry_cost-SFP_AVG_PRICE*Order_cost_percnt\n",
    "Shortage"
   ]
  },
  {
   "cell_type": "code",
   "execution_count": 27,
   "id": "5d2aa666",
   "metadata": {},
   "outputs": [],
   "source": [
    "SFP_PV['NEW_HOLDING'] = 0\n",
    "\n",
    "SFP_PV.iloc[0,7]=SFP_PV.iloc[0,5] * 0.3\n",
    "\n",
    "for i in range(length-1):\n",
    "    if(SFP_PV.iloc[i,6] > 0 and SFP_PV.iloc[i+1,6] > 0 ):\n",
    "            SFP_PV.iloc[i+1,7] = (SFP_PV.iloc[i,6] + SFP_PV.iloc[i+1,5]) * Carry_cost\n",
    "    \n",
    "    elif(SFP_PV.iloc[i,6] <= 0 and SFP_PV.iloc[i+1,6] > 0 ):\n",
    "             SFP_PV.iloc[i+1,7] = SFP_PV.iloc[i+1,5] * Carry_cost\n",
    "    \n",
    "    elif(SFP_PV.iloc[i,6] > 0 and SFP_PV.iloc[i+1,6] <= 0 ):\n",
    "            SFP_PV.iloc[i+1,7] = ((SFP_PV.iloc[i,6] + SFP_PV.iloc[i+1,5]) * Carry_cost) + (SFP_PV.iloc[i+1,6]*(-Shortage))        \n",
    "    \n",
    "    elif(SFP_PV.iloc[i,6] < 0 and SFP_PV.iloc[i+1,6] <= 0 ):\n",
    "            SFP_PV.iloc[i+1,7] = ((SFP_PV.iloc[i+1,5]) * Carry_cost)+(SFP_PV.iloc[i+1,6]*-Shortage)                     "
   ]
  },
  {
   "cell_type": "markdown",
   "id": "090f3673",
   "metadata": {},
   "source": [
    "### NEW Order_cost"
   ]
  },
  {
   "cell_type": "code",
   "execution_count": 28,
   "id": "0ad49baa",
   "metadata": {},
   "outputs": [],
   "source": [
    "SFP_PV['NEW_ORDER_COST'] = 0\n",
    "\n",
    "SFP_PV.iloc[0:,8] = round((SFP_PV.iloc[0:,5]*SFP_AVG_PRICE*Order_cost_percnt))"
   ]
  },
  {
   "cell_type": "code",
   "execution_count": 29,
   "id": "65a00da5",
   "metadata": {},
   "outputs": [
    {
     "data": {
      "text/plain": [
       "39703570.599999994"
      ]
     },
     "execution_count": 29,
     "metadata": {},
     "output_type": "execute_result"
    }
   ],
   "source": [
    "Total_cost_before_eoq = SFP_PV[\"Holding\"].sum() + SFP_PV[\"Order_Cost(EGP)\"].sum()\n",
    "Total_cost_before_eoq"
   ]
  },
  {
   "cell_type": "code",
   "execution_count": 30,
   "id": "01052529",
   "metadata": {},
   "outputs": [
    {
     "data": {
      "text/plain": [
       "16704879.338697322"
      ]
     },
     "execution_count": 30,
     "metadata": {},
     "output_type": "execute_result"
    }
   ],
   "source": [
    "Total_cost_after_eoq = SFP_PV[\"NEW_HOLDING\"].sum() + SFP_PV[\"NEW_ORDER_COST\"].sum()\n",
    "Total_cost_after_eoq"
   ]
  },
  {
   "cell_type": "code",
   "execution_count": 31,
   "id": "e39e5913",
   "metadata": {},
   "outputs": [],
   "source": [
    "Saving =  Total_cost_before_eoq - Total_cost_after_eoq"
   ]
  },
  {
   "cell_type": "code",
   "execution_count": 32,
   "id": "3a1fd163",
   "metadata": {},
   "outputs": [
    {
     "data": {
      "text/plain": [
       "22998691.261302672"
      ]
     },
     "execution_count": 32,
     "metadata": {},
     "output_type": "execute_result"
    }
   ],
   "source": [
    "Saving"
   ]
  },
  {
   "cell_type": "code",
   "execution_count": null,
   "id": "e8b9404e",
   "metadata": {},
   "outputs": [],
   "source": []
  }
 ],
 "metadata": {
  "kernelspec": {
   "display_name": "Python 3 (ipykernel)",
   "language": "python",
   "name": "python3"
  },
  "language_info": {
   "codemirror_mode": {
    "name": "ipython",
    "version": 3
   },
   "file_extension": ".py",
   "mimetype": "text/x-python",
   "name": "python",
   "nbconvert_exporter": "python",
   "pygments_lexer": "ipython3",
   "version": "3.9.13"
  }
 },
 "nbformat": 4,
 "nbformat_minor": 5
}
